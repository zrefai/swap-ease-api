{
 "cells": [
  {
   "attachments": {},
   "cell_type": "markdown",
   "metadata": {},
   "source": [
    "# Analysis of research\n",
    "## A presentation on different approaches to clustering NFTRank data\n",
    "\n",
    "This notebook will cover various topics including clustering algorithms and dimension reduction techniques via Python. The goal of this research is to mix different approaches of dimension reduction techniques with clustering algorithms (PCA with K-Means, or UMAP with DBSCAN) to prove that clustering NFTRank data is possible for SwapEase. Finding/creating a successful approach will give SwapEase a critical edge in the market. Such a process does not exist in the NFT space, and can be a powerful tool in a seasoned trader's hands. The summation of this research will help create descriptive enough data that will provide key insights for NFT arbitrage. \n",
    "\n",
    "I believe that clustering NFTs within a specific collection can help us achieve this. We can extract key information from \"like NFTs\" with efficient performance at scale. Information included could be anything from averages of trades to performance of clusters in the current market. This would be guided by the cluster since it reduces the scope of information to conglomerate."
   ]
  }
 ],
 "metadata": {
  "kernelspec": {
   "display_name": "Python 3",
   "language": "python",
   "name": "python3"
  },
  "language_info": {
   "name": "python",
   "version": "3.8.9 (default, Apr 13 2022, 08:48:06) \n[Clang 13.1.6 (clang-1316.0.21.2.5)]"
  },
  "orig_nbformat": 4,
  "vscode": {
   "interpreter": {
    "hash": "31f2aee4e71d21fbe5cf8b01ff0e069b9275f58929596ceb00d14d90e3e16cd6"
   }
  }
 },
 "nbformat": 4,
 "nbformat_minor": 2
}
